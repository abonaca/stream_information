{
 "cells": [
  {
   "cell_type": "code",
   "execution_count": 1,
   "metadata": {
    "collapsed": true
   },
   "outputs": [],
   "source": [
    "import matplotlib\n",
    "import numpy as np\n",
    "import matplotlib.pyplot as plt\n",
    "%matplotlib inline\n",
    "np.random.seed(42)"
   ]
  },
  {
   "cell_type": "code",
   "execution_count": 2,
   "metadata": {
    "collapsed": false
   },
   "outputs": [
    {
     "data": {
      "text/plain": [
       "(3000, 3000)"
      ]
     },
     "execution_count": 2,
     "metadata": {},
     "output_type": "execute_result"
    }
   ],
   "source": [
    "Nx = 18\n",
    "Nw = 3000\n",
    "dxdw = np.random.normal(size=(Nx, Nw))\n",
    "matrix = np.dot(dxdw.T, dxdw)\n",
    "matrix.shape"
   ]
  },
  {
   "cell_type": "code",
   "execution_count": 3,
   "metadata": {
    "collapsed": false
   },
   "outputs": [
    {
     "data": {
      "text/plain": [
       "((20,), (3000, 20))"
      ]
     },
     "execution_count": 3,
     "metadata": {},
     "output_type": "execute_result"
    }
   ],
   "source": [
    "import scipy.linalg as la\n",
    "vals, vecs = la.eigh(matrix, eigvals=(Nw - Nx - 2, Nw - 1))\n",
    "vals.shape, vecs.shape"
   ]
  },
  {
   "cell_type": "code",
   "execution_count": 4,
   "metadata": {
    "collapsed": false
   },
   "outputs": [
    {
     "name": "stdout",
     "output_type": "stream",
     "text": [
      "[  2.78567799e-12   2.78567799e-12   2.59117323e+03   2.67743116e+03\n",
      "   2.68660165e+03   2.76014055e+03   2.77716732e+03   2.80796908e+03\n",
      "   2.89821784e+03   2.94359618e+03   2.98393971e+03   3.02769286e+03\n",
      "   3.06039382e+03   3.08453805e+03   3.18251525e+03   3.19937186e+03\n",
      "   3.23767691e+03   3.33465733e+03   3.36982295e+03   3.40625172e+03]\n"
     ]
    }
   ],
   "source": [
    "# The first 2 values of vals should be zero, essentially!\n",
    "print(vals)"
   ]
  },
  {
   "cell_type": "code",
   "execution_count": null,
   "metadata": {
    "collapsed": true
   },
   "outputs": [],
   "source": []
  }
 ],
 "metadata": {
  "kernelspec": {
   "display_name": "Python 3",
   "language": "python",
   "name": "python3"
  },
  "language_info": {
   "codemirror_mode": {
    "name": "ipython",
    "version": 3
   },
   "file_extension": ".py",
   "mimetype": "text/x-python",
   "name": "python",
   "nbconvert_exporter": "python",
   "pygments_lexer": "ipython3",
   "version": "3.6.0"
  }
 },
 "nbformat": 4,
 "nbformat_minor": 2
}
