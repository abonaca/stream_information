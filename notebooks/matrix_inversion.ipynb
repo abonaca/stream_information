{
 "cells": [
  {
   "cell_type": "code",
   "execution_count": 84,
   "metadata": {
    "collapsed": true
   },
   "outputs": [],
   "source": [
    "import matplotlib\n",
    "import numpy as np\n",
    "import matplotlib.pyplot as plt\n",
    "%matplotlib inline\n",
    "np.random.seed(42)"
   ]
  },
  {
   "cell_type": "code",
   "execution_count": 104,
   "metadata": {
    "collapsed": false
   },
   "outputs": [
    {
     "data": {
      "text/plain": [
       "array([  1.00000000e+00,   4.21696503e+00,   1.77827941e+01,\n",
       "         7.49894209e+01,   3.16227766e+02,   1.33352143e+03,\n",
       "         5.62341325e+03,   2.37137371e+04,   1.00000000e+05,\n",
       "         4.21696503e+05,   1.77827941e+06,   7.49894209e+06,\n",
       "         3.16227766e+07,   1.33352143e+08,   5.62341325e+08,\n",
       "         2.37137371e+09])"
      ]
     },
     "execution_count": 104,
     "metadata": {},
     "output_type": "execute_result"
    }
   ],
   "source": [
    "D = 16 # number of dimensions\n",
    "condition = 1.e20 # approximate condition number we are going to make\n",
    "scales = np.sqrt(condition) ** (np.arange(D) / D)\n",
    "scales"
   ]
  },
  {
   "cell_type": "code",
   "execution_count": 108,
   "metadata": {
    "collapsed": false
   },
   "outputs": [
    {
     "data": {
      "text/plain": [
       "(16, 16)"
      ]
     },
     "execution_count": 108,
     "metadata": {},
     "output_type": "execute_result"
    }
   ],
   "source": [
    "vectors = scales[:, None] * np.random.normal(size=(D, D+2))\n",
    "matrix = np.dot(vectors, vectors.T)\n",
    "matrix.shape"
   ]
  },
  {
   "cell_type": "code",
   "execution_count": 109,
   "metadata": {
    "collapsed": false
   },
   "outputs": [
    {
     "data": {
      "text/plain": [
       "'2.001069e+19'"
      ]
     },
     "execution_count": 109,
     "metadata": {},
     "output_type": "execute_result"
    }
   ],
   "source": [
    "# this matrix has to be positive definite, but at high dynamic range, sometimes crazy shit happens!\n",
    "eigvals, eigvecs = np.linalg.eigh(matrix)\n",
    "\"{:e}\".format(np.max(eigvals) / np.min(np.abs(eigvals)))"
   ]
  },
  {
   "cell_type": "code",
   "execution_count": 110,
   "metadata": {
    "collapsed": false
   },
   "outputs": [
    {
     "data": {
      "text/plain": [
       "False"
      ]
     },
     "execution_count": 110,
     "metadata": {},
     "output_type": "execute_result"
    }
   ],
   "source": [
    "# hogg matrix inversion trick\n",
    "foo = np.eye(D)\n",
    "for iter in range(64): # no stopping criterion\n",
    "    foo = np.dot(np.linalg.inv(np.dot(foo, matrix)), foo.T)\n",
    "    foo = 0.5 * (foo + foo.T)\n",
    "inverse = foo\n",
    "np.allclose(np.dot(inverse, matrix), np.eye(D))"
   ]
  },
  {
   "cell_type": "code",
   "execution_count": null,
   "metadata": {
    "collapsed": true
   },
   "outputs": [],
   "source": []
  },
  {
   "cell_type": "code",
   "execution_count": null,
   "metadata": {
    "collapsed": true
   },
   "outputs": [],
   "source": []
  }
 ],
 "metadata": {
  "kernelspec": {
   "display_name": "Python 3",
   "language": "python",
   "name": "python3"
  },
  "language_info": {
   "codemirror_mode": {
    "name": "ipython",
    "version": 3
   },
   "file_extension": ".py",
   "mimetype": "text/x-python",
   "name": "python",
   "nbconvert_exporter": "python",
   "pygments_lexer": "ipython3",
   "version": "3.6.0"
  }
 },
 "nbformat": 4,
 "nbformat_minor": 2
}
